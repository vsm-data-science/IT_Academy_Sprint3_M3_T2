{
 "cells": [
  {
   "cell_type": "markdown",
   "id": "97e2cd36",
   "metadata": {},
   "source": [
    "## Exercici 1"
   ]
  },
  {
   "cell_type": "markdown",
   "id": "599a05eb",
   "metadata": {},
   "source": [
    "Descarrega el data set Airlines Delay: Airline on-time statistics and delay causes i carrega’l a un Pandas Dataframe.  \n",
    "Explora les dades que conté, explica breument quines variables hi ha i queda’t únicament amb les columnes que consideris rellevants.  \n",
    "Justifica la teva elecció."
   ]
  },
  {
   "cell_type": "code",
   "execution_count": 2,
   "id": "edc7cd07",
   "metadata": {
    "scrolled": true
   },
   "outputs": [
    {
     "data": {
      "text/html": [
       "<div>\n",
       "<style scoped>\n",
       "    .dataframe tbody tr th:only-of-type {\n",
       "        vertical-align: middle;\n",
       "    }\n",
       "\n",
       "    .dataframe tbody tr th {\n",
       "        vertical-align: top;\n",
       "    }\n",
       "\n",
       "    .dataframe thead th {\n",
       "        text-align: right;\n",
       "    }\n",
       "</style>\n",
       "<table border=\"1\" class=\"dataframe\">\n",
       "  <thead>\n",
       "    <tr style=\"text-align: right;\">\n",
       "      <th></th>\n",
       "      <th>Unnamed: 0</th>\n",
       "      <th>Year</th>\n",
       "      <th>Month</th>\n",
       "      <th>DayofMonth</th>\n",
       "      <th>DayOfWeek</th>\n",
       "      <th>DepTime</th>\n",
       "      <th>CRSDepTime</th>\n",
       "      <th>ArrTime</th>\n",
       "      <th>CRSArrTime</th>\n",
       "      <th>UniqueCarrier</th>\n",
       "      <th>...</th>\n",
       "      <th>TaxiIn</th>\n",
       "      <th>TaxiOut</th>\n",
       "      <th>Cancelled</th>\n",
       "      <th>CancellationCode</th>\n",
       "      <th>Diverted</th>\n",
       "      <th>CarrierDelay</th>\n",
       "      <th>WeatherDelay</th>\n",
       "      <th>NASDelay</th>\n",
       "      <th>SecurityDelay</th>\n",
       "      <th>LateAircraftDelay</th>\n",
       "    </tr>\n",
       "  </thead>\n",
       "  <tbody>\n",
       "    <tr>\n",
       "      <th>1750755</th>\n",
       "      <td>6516830</td>\n",
       "      <td>2008</td>\n",
       "      <td>12</td>\n",
       "      <td>19</td>\n",
       "      <td>5</td>\n",
       "      <td>1332.0</td>\n",
       "      <td>1320</td>\n",
       "      <td>1436.0</td>\n",
       "      <td>1430</td>\n",
       "      <td>WN</td>\n",
       "      <td>...</td>\n",
       "      <td>7.0</td>\n",
       "      <td>8.0</td>\n",
       "      <td>0</td>\n",
       "      <td>N</td>\n",
       "      <td>0</td>\n",
       "      <td>NaN</td>\n",
       "      <td>NaN</td>\n",
       "      <td>NaN</td>\n",
       "      <td>NaN</td>\n",
       "      <td>NaN</td>\n",
       "    </tr>\n",
       "    <tr>\n",
       "      <th>1074983</th>\n",
       "      <td>3577214</td>\n",
       "      <td>2008</td>\n",
       "      <td>6</td>\n",
       "      <td>17</td>\n",
       "      <td>2</td>\n",
       "      <td>1731.0</td>\n",
       "      <td>1720</td>\n",
       "      <td>2013.0</td>\n",
       "      <td>1955</td>\n",
       "      <td>CO</td>\n",
       "      <td>...</td>\n",
       "      <td>8.0</td>\n",
       "      <td>18.0</td>\n",
       "      <td>0</td>\n",
       "      <td>N</td>\n",
       "      <td>0</td>\n",
       "      <td>11.0</td>\n",
       "      <td>0.0</td>\n",
       "      <td>7.0</td>\n",
       "      <td>0.0</td>\n",
       "      <td>0.0</td>\n",
       "    </tr>\n",
       "    <tr>\n",
       "      <th>46126</th>\n",
       "      <td>148177</td>\n",
       "      <td>2008</td>\n",
       "      <td>1</td>\n",
       "      <td>27</td>\n",
       "      <td>7</td>\n",
       "      <td>735.0</td>\n",
       "      <td>645</td>\n",
       "      <td>918.0</td>\n",
       "      <td>815</td>\n",
       "      <td>YV</td>\n",
       "      <td>...</td>\n",
       "      <td>4.0</td>\n",
       "      <td>45.0</td>\n",
       "      <td>0</td>\n",
       "      <td>N</td>\n",
       "      <td>0</td>\n",
       "      <td>63.0</td>\n",
       "      <td>0.0</td>\n",
       "      <td>0.0</td>\n",
       "      <td>0.0</td>\n",
       "      <td>0.0</td>\n",
       "    </tr>\n",
       "    <tr>\n",
       "      <th>327441</th>\n",
       "      <td>1035260</td>\n",
       "      <td>2008</td>\n",
       "      <td>2</td>\n",
       "      <td>13</td>\n",
       "      <td>3</td>\n",
       "      <td>1333.0</td>\n",
       "      <td>1230</td>\n",
       "      <td>1515.0</td>\n",
       "      <td>1438</td>\n",
       "      <td>9E</td>\n",
       "      <td>...</td>\n",
       "      <td>7.0</td>\n",
       "      <td>15.0</td>\n",
       "      <td>0</td>\n",
       "      <td>N</td>\n",
       "      <td>0</td>\n",
       "      <td>0.0</td>\n",
       "      <td>0.0</td>\n",
       "      <td>0.0</td>\n",
       "      <td>0.0</td>\n",
       "      <td>37.0</td>\n",
       "    </tr>\n",
       "    <tr>\n",
       "      <th>1363177</th>\n",
       "      <td>4599044</td>\n",
       "      <td>2008</td>\n",
       "      <td>8</td>\n",
       "      <td>12</td>\n",
       "      <td>2</td>\n",
       "      <td>1359.0</td>\n",
       "      <td>1346</td>\n",
       "      <td>1517.0</td>\n",
       "      <td>1447</td>\n",
       "      <td>FL</td>\n",
       "      <td>...</td>\n",
       "      <td>5.0</td>\n",
       "      <td>15.0</td>\n",
       "      <td>0</td>\n",
       "      <td>N</td>\n",
       "      <td>0</td>\n",
       "      <td>13.0</td>\n",
       "      <td>0.0</td>\n",
       "      <td>17.0</td>\n",
       "      <td>0.0</td>\n",
       "      <td>0.0</td>\n",
       "    </tr>\n",
       "    <tr>\n",
       "      <th>...</th>\n",
       "      <td>...</td>\n",
       "      <td>...</td>\n",
       "      <td>...</td>\n",
       "      <td>...</td>\n",
       "      <td>...</td>\n",
       "      <td>...</td>\n",
       "      <td>...</td>\n",
       "      <td>...</td>\n",
       "      <td>...</td>\n",
       "      <td>...</td>\n",
       "      <td>...</td>\n",
       "      <td>...</td>\n",
       "      <td>...</td>\n",
       "      <td>...</td>\n",
       "      <td>...</td>\n",
       "      <td>...</td>\n",
       "      <td>...</td>\n",
       "      <td>...</td>\n",
       "      <td>...</td>\n",
       "      <td>...</td>\n",
       "      <td>...</td>\n",
       "    </tr>\n",
       "    <tr>\n",
       "      <th>1595898</th>\n",
       "      <td>5763672</td>\n",
       "      <td>2008</td>\n",
       "      <td>10</td>\n",
       "      <td>27</td>\n",
       "      <td>1</td>\n",
       "      <td>2159.0</td>\n",
       "      <td>1920</td>\n",
       "      <td>112.0</td>\n",
       "      <td>2225</td>\n",
       "      <td>MQ</td>\n",
       "      <td>...</td>\n",
       "      <td>4.0</td>\n",
       "      <td>20.0</td>\n",
       "      <td>0</td>\n",
       "      <td>N</td>\n",
       "      <td>0</td>\n",
       "      <td>0.0</td>\n",
       "      <td>0.0</td>\n",
       "      <td>8.0</td>\n",
       "      <td>0.0</td>\n",
       "      <td>159.0</td>\n",
       "    </tr>\n",
       "    <tr>\n",
       "      <th>1503090</th>\n",
       "      <td>5275042</td>\n",
       "      <td>2008</td>\n",
       "      <td>9</td>\n",
       "      <td>25</td>\n",
       "      <td>4</td>\n",
       "      <td>2052.0</td>\n",
       "      <td>1930</td>\n",
       "      <td>115.0</td>\n",
       "      <td>2245</td>\n",
       "      <td>AA</td>\n",
       "      <td>...</td>\n",
       "      <td>34.0</td>\n",
       "      <td>54.0</td>\n",
       "      <td>0</td>\n",
       "      <td>N</td>\n",
       "      <td>0</td>\n",
       "      <td>0.0</td>\n",
       "      <td>0.0</td>\n",
       "      <td>150.0</td>\n",
       "      <td>0.0</td>\n",
       "      <td>0.0</td>\n",
       "    </tr>\n",
       "    <tr>\n",
       "      <th>742602</th>\n",
       "      <td>2433686</td>\n",
       "      <td>2008</td>\n",
       "      <td>5</td>\n",
       "      <td>16</td>\n",
       "      <td>5</td>\n",
       "      <td>1335.0</td>\n",
       "      <td>1325</td>\n",
       "      <td>1422.0</td>\n",
       "      <td>1415</td>\n",
       "      <td>WN</td>\n",
       "      <td>...</td>\n",
       "      <td>3.0</td>\n",
       "      <td>7.0</td>\n",
       "      <td>0</td>\n",
       "      <td>N</td>\n",
       "      <td>0</td>\n",
       "      <td>NaN</td>\n",
       "      <td>NaN</td>\n",
       "      <td>NaN</td>\n",
       "      <td>NaN</td>\n",
       "      <td>NaN</td>\n",
       "    </tr>\n",
       "    <tr>\n",
       "      <th>1840527</th>\n",
       "      <td>6749307</td>\n",
       "      <td>2008</td>\n",
       "      <td>12</td>\n",
       "      <td>23</td>\n",
       "      <td>2</td>\n",
       "      <td>720.0</td>\n",
       "      <td>710</td>\n",
       "      <td>839.0</td>\n",
       "      <td>831</td>\n",
       "      <td>DL</td>\n",
       "      <td>...</td>\n",
       "      <td>9.0</td>\n",
       "      <td>20.0</td>\n",
       "      <td>0</td>\n",
       "      <td>N</td>\n",
       "      <td>0</td>\n",
       "      <td>NaN</td>\n",
       "      <td>NaN</td>\n",
       "      <td>NaN</td>\n",
       "      <td>NaN</td>\n",
       "      <td>NaN</td>\n",
       "    </tr>\n",
       "    <tr>\n",
       "      <th>1526456</th>\n",
       "      <td>5395875</td>\n",
       "      <td>2008</td>\n",
       "      <td>10</td>\n",
       "      <td>6</td>\n",
       "      <td>1</td>\n",
       "      <td>1657.0</td>\n",
       "      <td>1650</td>\n",
       "      <td>2217.0</td>\n",
       "      <td>2205</td>\n",
       "      <td>WN</td>\n",
       "      <td>...</td>\n",
       "      <td>3.0</td>\n",
       "      <td>12.0</td>\n",
       "      <td>0</td>\n",
       "      <td>N</td>\n",
       "      <td>0</td>\n",
       "      <td>NaN</td>\n",
       "      <td>NaN</td>\n",
       "      <td>NaN</td>\n",
       "      <td>NaN</td>\n",
       "      <td>NaN</td>\n",
       "    </tr>\n",
       "  </tbody>\n",
       "</table>\n",
       "<p>200000 rows × 30 columns</p>\n",
       "</div>"
      ],
      "text/plain": [
       "         Unnamed: 0  Year  Month  DayofMonth  DayOfWeek  DepTime  CRSDepTime  \\\n",
       "1750755     6516830  2008     12          19          5   1332.0        1320   \n",
       "1074983     3577214  2008      6          17          2   1731.0        1720   \n",
       "46126        148177  2008      1          27          7    735.0         645   \n",
       "327441      1035260  2008      2          13          3   1333.0        1230   \n",
       "1363177     4599044  2008      8          12          2   1359.0        1346   \n",
       "...             ...   ...    ...         ...        ...      ...         ...   \n",
       "1595898     5763672  2008     10          27          1   2159.0        1920   \n",
       "1503090     5275042  2008      9          25          4   2052.0        1930   \n",
       "742602      2433686  2008      5          16          5   1335.0        1325   \n",
       "1840527     6749307  2008     12          23          2    720.0         710   \n",
       "1526456     5395875  2008     10           6          1   1657.0        1650   \n",
       "\n",
       "         ArrTime  CRSArrTime UniqueCarrier  ...  TaxiIn TaxiOut  Cancelled  \\\n",
       "1750755   1436.0        1430            WN  ...     7.0     8.0          0   \n",
       "1074983   2013.0        1955            CO  ...     8.0    18.0          0   \n",
       "46126      918.0         815            YV  ...     4.0    45.0          0   \n",
       "327441    1515.0        1438            9E  ...     7.0    15.0          0   \n",
       "1363177   1517.0        1447            FL  ...     5.0    15.0          0   \n",
       "...          ...         ...           ...  ...     ...     ...        ...   \n",
       "1595898    112.0        2225            MQ  ...     4.0    20.0          0   \n",
       "1503090    115.0        2245            AA  ...    34.0    54.0          0   \n",
       "742602    1422.0        1415            WN  ...     3.0     7.0          0   \n",
       "1840527    839.0         831            DL  ...     9.0    20.0          0   \n",
       "1526456   2217.0        2205            WN  ...     3.0    12.0          0   \n",
       "\n",
       "         CancellationCode  Diverted  CarrierDelay  WeatherDelay NASDelay  \\\n",
       "1750755                 N         0           NaN           NaN      NaN   \n",
       "1074983                 N         0          11.0           0.0      7.0   \n",
       "46126                   N         0          63.0           0.0      0.0   \n",
       "327441                  N         0           0.0           0.0      0.0   \n",
       "1363177                 N         0          13.0           0.0     17.0   \n",
       "...                   ...       ...           ...           ...      ...   \n",
       "1595898                 N         0           0.0           0.0      8.0   \n",
       "1503090                 N         0           0.0           0.0    150.0   \n",
       "742602                  N         0           NaN           NaN      NaN   \n",
       "1840527                 N         0           NaN           NaN      NaN   \n",
       "1526456                 N         0           NaN           NaN      NaN   \n",
       "\n",
       "        SecurityDelay  LateAircraftDelay  \n",
       "1750755           NaN                NaN  \n",
       "1074983           0.0                0.0  \n",
       "46126             0.0                0.0  \n",
       "327441            0.0               37.0  \n",
       "1363177           0.0                0.0  \n",
       "...               ...                ...  \n",
       "1595898           0.0              159.0  \n",
       "1503090           0.0                0.0  \n",
       "742602            NaN                NaN  \n",
       "1840527           NaN                NaN  \n",
       "1526456           NaN                NaN  \n",
       "\n",
       "[200000 rows x 30 columns]"
      ]
     },
     "execution_count": 2,
     "metadata": {},
     "output_type": "execute_result"
    }
   ],
   "source": [
    "import pandas as pd #esta libreria la utilizamos para cargar el dataframe\n",
    "import numpy as np #esta libreria la utilizamos para reducir la dimensión y aplicar la función random de numpy para ver la muestra aleatoria\n",
    "\n",
    "# cargamos el dataframe de iris.\n",
    "df = pd.read_csv('DelayedFlights.csv')\n",
    "\n",
    "# Reducimos la dimensión a 200.000 registros de manera aleatoria.\n",
    "df_reduit = df.sample(n=200000, random_state=1)  # Utilizamos un valor de random_state para producirlo.\n",
    "\n",
    "df_reduit"
   ]
  },
  {
   "cell_type": "markdown",
   "id": "feac1790",
   "metadata": {},
   "source": [
    "Con la función df.info nos muestra la tipología de datos que tiene cada columna, esto nos ayudará más adelante."
   ]
  },
  {
   "cell_type": "code",
   "execution_count": 3,
   "id": "e41baa47",
   "metadata": {},
   "outputs": [
    {
     "data": {
      "text/html": [
       "<div>\n",
       "<style scoped>\n",
       "    .dataframe tbody tr th:only-of-type {\n",
       "        vertical-align: middle;\n",
       "    }\n",
       "\n",
       "    .dataframe tbody tr th {\n",
       "        vertical-align: top;\n",
       "    }\n",
       "\n",
       "    .dataframe thead th {\n",
       "        text-align: right;\n",
       "    }\n",
       "</style>\n",
       "<table border=\"1\" class=\"dataframe\">\n",
       "  <thead>\n",
       "    <tr style=\"text-align: right;\">\n",
       "      <th></th>\n",
       "      <th>count</th>\n",
       "      <th>mean</th>\n",
       "      <th>std</th>\n",
       "      <th>min</th>\n",
       "      <th>25%</th>\n",
       "      <th>50%</th>\n",
       "      <th>75%</th>\n",
       "      <th>max</th>\n",
       "    </tr>\n",
       "  </thead>\n",
       "  <tbody>\n",
       "    <tr>\n",
       "      <th>Unnamed: 0</th>\n",
       "      <td>1936758.0</td>\n",
       "      <td>3.341651e+06</td>\n",
       "      <td>2.066065e+06</td>\n",
       "      <td>0.0</td>\n",
       "      <td>1517452.5</td>\n",
       "      <td>3242558.0</td>\n",
       "      <td>4972466.75</td>\n",
       "      <td>7009727.0</td>\n",
       "    </tr>\n",
       "    <tr>\n",
       "      <th>Year</th>\n",
       "      <td>1936758.0</td>\n",
       "      <td>2.008000e+03</td>\n",
       "      <td>0.000000e+00</td>\n",
       "      <td>2008.0</td>\n",
       "      <td>2008.0</td>\n",
       "      <td>2008.0</td>\n",
       "      <td>2008.00</td>\n",
       "      <td>2008.0</td>\n",
       "    </tr>\n",
       "    <tr>\n",
       "      <th>Month</th>\n",
       "      <td>1936758.0</td>\n",
       "      <td>6.111106e+00</td>\n",
       "      <td>3.482546e+00</td>\n",
       "      <td>1.0</td>\n",
       "      <td>3.0</td>\n",
       "      <td>6.0</td>\n",
       "      <td>9.00</td>\n",
       "      <td>12.0</td>\n",
       "    </tr>\n",
       "    <tr>\n",
       "      <th>DayofMonth</th>\n",
       "      <td>1936758.0</td>\n",
       "      <td>1.575347e+01</td>\n",
       "      <td>8.776272e+00</td>\n",
       "      <td>1.0</td>\n",
       "      <td>8.0</td>\n",
       "      <td>16.0</td>\n",
       "      <td>23.00</td>\n",
       "      <td>31.0</td>\n",
       "    </tr>\n",
       "    <tr>\n",
       "      <th>DayOfWeek</th>\n",
       "      <td>1936758.0</td>\n",
       "      <td>3.984827e+00</td>\n",
       "      <td>1.995966e+00</td>\n",
       "      <td>1.0</td>\n",
       "      <td>2.0</td>\n",
       "      <td>4.0</td>\n",
       "      <td>6.00</td>\n",
       "      <td>7.0</td>\n",
       "    </tr>\n",
       "    <tr>\n",
       "      <th>DepTime</th>\n",
       "      <td>1936758.0</td>\n",
       "      <td>1.518534e+03</td>\n",
       "      <td>4.504853e+02</td>\n",
       "      <td>1.0</td>\n",
       "      <td>1203.0</td>\n",
       "      <td>1545.0</td>\n",
       "      <td>1900.00</td>\n",
       "      <td>2400.0</td>\n",
       "    </tr>\n",
       "    <tr>\n",
       "      <th>CRSDepTime</th>\n",
       "      <td>1936758.0</td>\n",
       "      <td>1.467473e+03</td>\n",
       "      <td>4.247668e+02</td>\n",
       "      <td>0.0</td>\n",
       "      <td>1135.0</td>\n",
       "      <td>1510.0</td>\n",
       "      <td>1815.00</td>\n",
       "      <td>2359.0</td>\n",
       "    </tr>\n",
       "    <tr>\n",
       "      <th>ArrTime</th>\n",
       "      <td>1929648.0</td>\n",
       "      <td>1.610141e+03</td>\n",
       "      <td>5.481781e+02</td>\n",
       "      <td>1.0</td>\n",
       "      <td>1316.0</td>\n",
       "      <td>1715.0</td>\n",
       "      <td>2030.00</td>\n",
       "      <td>2400.0</td>\n",
       "    </tr>\n",
       "    <tr>\n",
       "      <th>CRSArrTime</th>\n",
       "      <td>1936758.0</td>\n",
       "      <td>1.634225e+03</td>\n",
       "      <td>4.646347e+02</td>\n",
       "      <td>0.0</td>\n",
       "      <td>1325.0</td>\n",
       "      <td>1705.0</td>\n",
       "      <td>2014.00</td>\n",
       "      <td>2400.0</td>\n",
       "    </tr>\n",
       "    <tr>\n",
       "      <th>FlightNum</th>\n",
       "      <td>1936758.0</td>\n",
       "      <td>2.184263e+03</td>\n",
       "      <td>1.944702e+03</td>\n",
       "      <td>1.0</td>\n",
       "      <td>610.0</td>\n",
       "      <td>1543.0</td>\n",
       "      <td>3422.00</td>\n",
       "      <td>9742.0</td>\n",
       "    </tr>\n",
       "    <tr>\n",
       "      <th>ActualElapsedTime</th>\n",
       "      <td>1928371.0</td>\n",
       "      <td>1.333059e+02</td>\n",
       "      <td>7.206007e+01</td>\n",
       "      <td>14.0</td>\n",
       "      <td>80.0</td>\n",
       "      <td>116.0</td>\n",
       "      <td>165.00</td>\n",
       "      <td>1114.0</td>\n",
       "    </tr>\n",
       "    <tr>\n",
       "      <th>CRSElapsedTime</th>\n",
       "      <td>1936560.0</td>\n",
       "      <td>1.343027e+02</td>\n",
       "      <td>7.134144e+01</td>\n",
       "      <td>-25.0</td>\n",
       "      <td>82.0</td>\n",
       "      <td>116.0</td>\n",
       "      <td>165.00</td>\n",
       "      <td>660.0</td>\n",
       "    </tr>\n",
       "    <tr>\n",
       "      <th>AirTime</th>\n",
       "      <td>1928371.0</td>\n",
       "      <td>1.082771e+02</td>\n",
       "      <td>6.864261e+01</td>\n",
       "      <td>0.0</td>\n",
       "      <td>58.0</td>\n",
       "      <td>90.0</td>\n",
       "      <td>137.00</td>\n",
       "      <td>1091.0</td>\n",
       "    </tr>\n",
       "    <tr>\n",
       "      <th>ArrDelay</th>\n",
       "      <td>1928371.0</td>\n",
       "      <td>4.219988e+01</td>\n",
       "      <td>5.678472e+01</td>\n",
       "      <td>-109.0</td>\n",
       "      <td>9.0</td>\n",
       "      <td>24.0</td>\n",
       "      <td>56.00</td>\n",
       "      <td>2461.0</td>\n",
       "    </tr>\n",
       "    <tr>\n",
       "      <th>DepDelay</th>\n",
       "      <td>1936758.0</td>\n",
       "      <td>4.318518e+01</td>\n",
       "      <td>5.340250e+01</td>\n",
       "      <td>6.0</td>\n",
       "      <td>12.0</td>\n",
       "      <td>24.0</td>\n",
       "      <td>53.00</td>\n",
       "      <td>2467.0</td>\n",
       "    </tr>\n",
       "    <tr>\n",
       "      <th>Distance</th>\n",
       "      <td>1936758.0</td>\n",
       "      <td>7.656862e+02</td>\n",
       "      <td>5.744797e+02</td>\n",
       "      <td>11.0</td>\n",
       "      <td>338.0</td>\n",
       "      <td>606.0</td>\n",
       "      <td>998.00</td>\n",
       "      <td>4962.0</td>\n",
       "    </tr>\n",
       "    <tr>\n",
       "      <th>TaxiIn</th>\n",
       "      <td>1929648.0</td>\n",
       "      <td>6.812975e+00</td>\n",
       "      <td>5.273595e+00</td>\n",
       "      <td>0.0</td>\n",
       "      <td>4.0</td>\n",
       "      <td>6.0</td>\n",
       "      <td>8.00</td>\n",
       "      <td>240.0</td>\n",
       "    </tr>\n",
       "    <tr>\n",
       "      <th>TaxiOut</th>\n",
       "      <td>1936303.0</td>\n",
       "      <td>1.823220e+01</td>\n",
       "      <td>1.433853e+01</td>\n",
       "      <td>0.0</td>\n",
       "      <td>10.0</td>\n",
       "      <td>14.0</td>\n",
       "      <td>21.00</td>\n",
       "      <td>422.0</td>\n",
       "    </tr>\n",
       "    <tr>\n",
       "      <th>Cancelled</th>\n",
       "      <td>1936758.0</td>\n",
       "      <td>3.268348e-04</td>\n",
       "      <td>1.807562e-02</td>\n",
       "      <td>0.0</td>\n",
       "      <td>0.0</td>\n",
       "      <td>0.0</td>\n",
       "      <td>0.00</td>\n",
       "      <td>1.0</td>\n",
       "    </tr>\n",
       "    <tr>\n",
       "      <th>Diverted</th>\n",
       "      <td>1936758.0</td>\n",
       "      <td>4.003598e-03</td>\n",
       "      <td>6.314722e-02</td>\n",
       "      <td>0.0</td>\n",
       "      <td>0.0</td>\n",
       "      <td>0.0</td>\n",
       "      <td>0.00</td>\n",
       "      <td>1.0</td>\n",
       "    </tr>\n",
       "    <tr>\n",
       "      <th>CarrierDelay</th>\n",
       "      <td>1247488.0</td>\n",
       "      <td>1.917940e+01</td>\n",
       "      <td>4.354621e+01</td>\n",
       "      <td>0.0</td>\n",
       "      <td>0.0</td>\n",
       "      <td>2.0</td>\n",
       "      <td>21.00</td>\n",
       "      <td>2436.0</td>\n",
       "    </tr>\n",
       "    <tr>\n",
       "      <th>WeatherDelay</th>\n",
       "      <td>1247488.0</td>\n",
       "      <td>3.703571e+00</td>\n",
       "      <td>2.149290e+01</td>\n",
       "      <td>0.0</td>\n",
       "      <td>0.0</td>\n",
       "      <td>0.0</td>\n",
       "      <td>0.00</td>\n",
       "      <td>1352.0</td>\n",
       "    </tr>\n",
       "    <tr>\n",
       "      <th>NASDelay</th>\n",
       "      <td>1247488.0</td>\n",
       "      <td>1.502164e+01</td>\n",
       "      <td>3.383305e+01</td>\n",
       "      <td>0.0</td>\n",
       "      <td>0.0</td>\n",
       "      <td>2.0</td>\n",
       "      <td>15.00</td>\n",
       "      <td>1357.0</td>\n",
       "    </tr>\n",
       "    <tr>\n",
       "      <th>SecurityDelay</th>\n",
       "      <td>1247488.0</td>\n",
       "      <td>9.013714e-02</td>\n",
       "      <td>2.022714e+00</td>\n",
       "      <td>0.0</td>\n",
       "      <td>0.0</td>\n",
       "      <td>0.0</td>\n",
       "      <td>0.00</td>\n",
       "      <td>392.0</td>\n",
       "    </tr>\n",
       "    <tr>\n",
       "      <th>LateAircraftDelay</th>\n",
       "      <td>1247488.0</td>\n",
       "      <td>2.529647e+01</td>\n",
       "      <td>4.205486e+01</td>\n",
       "      <td>0.0</td>\n",
       "      <td>0.0</td>\n",
       "      <td>8.0</td>\n",
       "      <td>33.00</td>\n",
       "      <td>1316.0</td>\n",
       "    </tr>\n",
       "  </tbody>\n",
       "</table>\n",
       "</div>"
      ],
      "text/plain": [
       "                       count          mean           std     min        25%  \\\n",
       "Unnamed: 0         1936758.0  3.341651e+06  2.066065e+06     0.0  1517452.5   \n",
       "Year               1936758.0  2.008000e+03  0.000000e+00  2008.0     2008.0   \n",
       "Month              1936758.0  6.111106e+00  3.482546e+00     1.0        3.0   \n",
       "DayofMonth         1936758.0  1.575347e+01  8.776272e+00     1.0        8.0   \n",
       "DayOfWeek          1936758.0  3.984827e+00  1.995966e+00     1.0        2.0   \n",
       "DepTime            1936758.0  1.518534e+03  4.504853e+02     1.0     1203.0   \n",
       "CRSDepTime         1936758.0  1.467473e+03  4.247668e+02     0.0     1135.0   \n",
       "ArrTime            1929648.0  1.610141e+03  5.481781e+02     1.0     1316.0   \n",
       "CRSArrTime         1936758.0  1.634225e+03  4.646347e+02     0.0     1325.0   \n",
       "FlightNum          1936758.0  2.184263e+03  1.944702e+03     1.0      610.0   \n",
       "ActualElapsedTime  1928371.0  1.333059e+02  7.206007e+01    14.0       80.0   \n",
       "CRSElapsedTime     1936560.0  1.343027e+02  7.134144e+01   -25.0       82.0   \n",
       "AirTime            1928371.0  1.082771e+02  6.864261e+01     0.0       58.0   \n",
       "ArrDelay           1928371.0  4.219988e+01  5.678472e+01  -109.0        9.0   \n",
       "DepDelay           1936758.0  4.318518e+01  5.340250e+01     6.0       12.0   \n",
       "Distance           1936758.0  7.656862e+02  5.744797e+02    11.0      338.0   \n",
       "TaxiIn             1929648.0  6.812975e+00  5.273595e+00     0.0        4.0   \n",
       "TaxiOut            1936303.0  1.823220e+01  1.433853e+01     0.0       10.0   \n",
       "Cancelled          1936758.0  3.268348e-04  1.807562e-02     0.0        0.0   \n",
       "Diverted           1936758.0  4.003598e-03  6.314722e-02     0.0        0.0   \n",
       "CarrierDelay       1247488.0  1.917940e+01  4.354621e+01     0.0        0.0   \n",
       "WeatherDelay       1247488.0  3.703571e+00  2.149290e+01     0.0        0.0   \n",
       "NASDelay           1247488.0  1.502164e+01  3.383305e+01     0.0        0.0   \n",
       "SecurityDelay      1247488.0  9.013714e-02  2.022714e+00     0.0        0.0   \n",
       "LateAircraftDelay  1247488.0  2.529647e+01  4.205486e+01     0.0        0.0   \n",
       "\n",
       "                         50%         75%        max  \n",
       "Unnamed: 0         3242558.0  4972466.75  7009727.0  \n",
       "Year                  2008.0     2008.00     2008.0  \n",
       "Month                    6.0        9.00       12.0  \n",
       "DayofMonth              16.0       23.00       31.0  \n",
       "DayOfWeek                4.0        6.00        7.0  \n",
       "DepTime               1545.0     1900.00     2400.0  \n",
       "CRSDepTime            1510.0     1815.00     2359.0  \n",
       "ArrTime               1715.0     2030.00     2400.0  \n",
       "CRSArrTime            1705.0     2014.00     2400.0  \n",
       "FlightNum             1543.0     3422.00     9742.0  \n",
       "ActualElapsedTime      116.0      165.00     1114.0  \n",
       "CRSElapsedTime         116.0      165.00      660.0  \n",
       "AirTime                 90.0      137.00     1091.0  \n",
       "ArrDelay                24.0       56.00     2461.0  \n",
       "DepDelay                24.0       53.00     2467.0  \n",
       "Distance               606.0      998.00     4962.0  \n",
       "TaxiIn                   6.0        8.00      240.0  \n",
       "TaxiOut                 14.0       21.00      422.0  \n",
       "Cancelled                0.0        0.00        1.0  \n",
       "Diverted                 0.0        0.00        1.0  \n",
       "CarrierDelay             2.0       21.00     2436.0  \n",
       "WeatherDelay             0.0        0.00     1352.0  \n",
       "NASDelay                 2.0       15.00     1357.0  \n",
       "SecurityDelay            0.0        0.00      392.0  \n",
       "LateAircraftDelay        8.0       33.00     1316.0  "
      ]
     },
     "execution_count": 3,
     "metadata": {},
     "output_type": "execute_result"
    }
   ],
   "source": [
    "df.describe().T"
   ]
  },
  {
   "cell_type": "code",
   "execution_count": 4,
   "id": "b9319a9d",
   "metadata": {},
   "outputs": [
    {
     "name": "stdout",
     "output_type": "stream",
     "text": [
      "<class 'pandas.core.frame.DataFrame'>\n",
      "RangeIndex: 1936758 entries, 0 to 1936757\n",
      "Data columns (total 30 columns):\n",
      " #   Column             Dtype  \n",
      "---  ------             -----  \n",
      " 0   Unnamed: 0         int64  \n",
      " 1   Year               int64  \n",
      " 2   Month              int64  \n",
      " 3   DayofMonth         int64  \n",
      " 4   DayOfWeek          int64  \n",
      " 5   DepTime            float64\n",
      " 6   CRSDepTime         int64  \n",
      " 7   ArrTime            float64\n",
      " 8   CRSArrTime         int64  \n",
      " 9   UniqueCarrier      object \n",
      " 10  FlightNum          int64  \n",
      " 11  TailNum            object \n",
      " 12  ActualElapsedTime  float64\n",
      " 13  CRSElapsedTime     float64\n",
      " 14  AirTime            float64\n",
      " 15  ArrDelay           float64\n",
      " 16  DepDelay           float64\n",
      " 17  Origin             object \n",
      " 18  Dest               object \n",
      " 19  Distance           int64  \n",
      " 20  TaxiIn             float64\n",
      " 21  TaxiOut            float64\n",
      " 22  Cancelled          int64  \n",
      " 23  CancellationCode   object \n",
      " 24  Diverted           int64  \n",
      " 25  CarrierDelay       float64\n",
      " 26  WeatherDelay       float64\n",
      " 27  NASDelay           float64\n",
      " 28  SecurityDelay      float64\n",
      " 29  LateAircraftDelay  float64\n",
      "dtypes: float64(14), int64(11), object(5)\n",
      "memory usage: 443.3+ MB\n"
     ]
    }
   ],
   "source": [
    "df.info()"
   ]
  },
  {
   "cell_type": "markdown",
   "id": "065e92f4",
   "metadata": {},
   "source": [
    "**Observaciones**: Observamos que en el caso de las columnas Cancelled y Diverted, dado que son variables binarias que indican si un vuelo fue cancelado o desviado (1) o no (0), sería más apropiado cambiar su formato a booleano para reflejar la naturaleza de la variable."
   ]
  },
  {
   "cell_type": "code",
   "execution_count": 19,
   "id": "9653433e",
   "metadata": {},
   "outputs": [
    {
     "name": "stdout",
     "output_type": "stream",
     "text": [
      "Unnamed: 0             int64\n",
      "Year                   int64\n",
      "Month                  int64\n",
      "DayofMonth             int64\n",
      "DayOfWeek              int64\n",
      "DepTime              float64\n",
      "CRSDepTime             int64\n",
      "ArrTime              float64\n",
      "CRSArrTime             int64\n",
      "UniqueCarrier         object\n",
      "FlightNum              int64\n",
      "TailNum               object\n",
      "ActualElapsedTime    float64\n",
      "CRSElapsedTime       float64\n",
      "AirTime              float64\n",
      "ArrDelay             float64\n",
      "DepDelay             float64\n",
      "Origin                object\n",
      "Dest                  object\n",
      "Distance               int64\n",
      "TaxiIn               float64\n",
      "TaxiOut              float64\n",
      "Cancelled               bool\n",
      "CancellationCode      object\n",
      "Diverted                bool\n",
      "CarrierDelay         float64\n",
      "WeatherDelay         float64\n",
      "NASDelay             float64\n",
      "SecurityDelay        float64\n",
      "LateAircraftDelay    float64\n",
      "dtype: object\n"
     ]
    }
   ],
   "source": [
    "import pandas as pd\n",
    "\n",
    "#llamamos al dataframe df entre corchetes le decimos la columna que queremos, y le decimos con la función .astype que queremos \n",
    "#cambiar el formato de esa columna a bool que es booleano.\n",
    "df['Cancelled'] = df['Cancelled'].astype(bool)\n",
    "df['Diverted'] = df['Diverted'].astype(bool)\n",
    "\n",
    "#verificamos que se ha hecho el cambio correctamente\n",
    "print(df.dtypes)"
   ]
  },
  {
   "cell_type": "markdown",
   "id": "fb35e145",
   "metadata": {},
   "source": [
    "En la muestra anterior, a simple vista observo que hay columnas con valores NaN:  \n",
    "\n",
    "**CarrierDelay:** El tiempo de retraso debido a la aerolínea en minutos.  \n",
    "**WeatherDelay:** El tiempo de retraso debido al clima en minutos.  \n",
    "**NASDelay:** El tiempo de retraso debido al Sistema Nacional de Aviación en minutos.  \n",
    "**SecurityDelay:** El tiempo de retraso debido a problemas de seguridad en minutos.  \n",
    "**LateAircraftDelay:** El tiempo de retraso debido a problemas con el avión en minutos.  \n",
    "\n",
    "Para poder comprobar si existen otras columnas con valores NaN, aplico el siguiente código."
   ]
  },
  {
   "cell_type": "code",
   "execution_count": 5,
   "id": "9d02923a",
   "metadata": {},
   "outputs": [
    {
     "data": {
      "text/plain": [
       "Unnamed: 0                0\n",
       "Year                      0\n",
       "Month                     0\n",
       "DayofMonth                0\n",
       "DayOfWeek                 0\n",
       "DepTime                   0\n",
       "CRSDepTime                0\n",
       "ArrTime                7110\n",
       "CRSArrTime                0\n",
       "UniqueCarrier             0\n",
       "FlightNum                 0\n",
       "TailNum                   5\n",
       "ActualElapsedTime      8387\n",
       "CRSElapsedTime          198\n",
       "AirTime                8387\n",
       "ArrDelay               8387\n",
       "DepDelay                  0\n",
       "Origin                    0\n",
       "Dest                      0\n",
       "Distance                  0\n",
       "TaxiIn                 7110\n",
       "TaxiOut                 455\n",
       "Cancelled                 0\n",
       "CancellationCode          0\n",
       "Diverted                  0\n",
       "CarrierDelay         689270\n",
       "WeatherDelay         689270\n",
       "NASDelay             689270\n",
       "SecurityDelay        689270\n",
       "LateAircraftDelay    689270\n",
       "dtype: int64"
      ]
     },
     "execution_count": 5,
     "metadata": {},
     "output_type": "execute_result"
    }
   ],
   "source": [
    "df.isnull().sum()"
   ]
  },
  {
   "cell_type": "markdown",
   "id": "77459b71",
   "metadata": {},
   "source": [
    "Al comprobar que exiten más columnas con valores NaN, me surgen varias duda:  \n",
    "**¿Qué vuelos fueron cancelados, desvidados y retrasados que no hayan tenido relación con los motivos de retraso?**  Solución ejercicio 2. \n",
    "\n",
    "¿Cuántos vuelos fueron cancelados, desviados y retrasados?  \n",
    "¿Los vuelos que han sido desviados han llegado con retraso?\n",
    "¿Qué relación tienen las columnas de los motivos de retraso con el resto de columnas?  "
   ]
  },
  {
   "cell_type": "markdown",
   "id": "cede7fb5",
   "metadata": {},
   "source": [
    "**1. ¿Cuántos vuelos fueron cancelados, desviados y retrasados?**  "
   ]
  },
  {
   "cell_type": "code",
   "execution_count": 6,
   "id": "8e6e1245",
   "metadata": {},
   "outputs": [
    {
     "name": "stdout",
     "output_type": "stream",
     "text": [
      "Vuelos cancelados:  633\n",
      "Vuelos desviados:  7754\n",
      "Vuelos retrasados:  1723415\n"
     ]
    }
   ],
   "source": [
    "vuelos_cancelados = df['Cancelled'].sum()\n",
    "vuelos_desviados = df['Diverted'].sum()\n",
    "vuelos_retrasados = df[df['ArrDelay']>0].shape[0]\n",
    "print('Vuelos cancelados: ',vuelos_cancelados)\n",
    "print('Vuelos desviados: ', vuelos_desviados)\n",
    "print('Vuelos retrasados: ', vuelos_retrasados)"
   ]
  },
  {
   "cell_type": "code",
   "execution_count": 7,
   "id": "c3ebe607",
   "metadata": {},
   "outputs": [
    {
     "name": "stdout",
     "output_type": "stream",
     "text": [
      "Total 1731802\n"
     ]
    }
   ],
   "source": [
    "print('Total', vuelos_cancelados + vuelos_desviados + vuelos_retrasados)"
   ]
  },
  {
   "cell_type": "markdown",
   "id": "98cb1c22",
   "metadata": {},
   "source": [
    "**¿Los vuelos que han sido desviados han llegado con retraso?**"
   ]
  },
  {
   "cell_type": "code",
   "execution_count": 8,
   "id": "832d05ca",
   "metadata": {},
   "outputs": [
    {
     "name": "stdout",
     "output_type": "stream",
     "text": [
      "vuelos desviados que llegaron con retraso {0}\n"
     ]
    }
   ],
   "source": [
    "vuelos_desviados_con_retraso = df[(df['Diverted'] == 1) & (df['ArrDelay']>0)].shape[0]\n",
    "print(f'vuelos desviados que llegaron con retraso',{vuelos_desviados_con_retraso})"
   ]
  },
  {
   "cell_type": "markdown",
   "id": "dc8bf582",
   "metadata": {},
   "source": [
    "**Conclusión**: Podemos confirmar que los vuelos que fueron desviados **NO** tuvieron retraso."
   ]
  },
  {
   "cell_type": "markdown",
   "id": "1ae7ecf3",
   "metadata": {},
   "source": [
    "**2. ¿Qué relación tienen las columnas de los motivos de retraso con las columnas retraso en la salida y retraso en la llegada?**  \n",
    "\n",
    "Para ello vamos a utilizar el método .corr() de la librería pandas, que sirve para calcular la correlación entre columnas.  \n",
    "Nos dará una matriz de correlación que muestra la relación entre pares de columnas."
   ]
  },
  {
   "cell_type": "markdown",
   "id": "87dd9d2d",
   "metadata": {},
   "source": [
    "**Valores cercanos a 1 indican una fuerte correlación positiva**, mientras que **valores cercanos a -1 incidcan una fuerte correlación negativa**. Quiero averiguar si las columnas de motivos (CarrierDelay, WeatherDelay, NASDelay, SecurityDelay, LateAircraftDelay) que tienen valores NaN, tienen relación con las columnas de cancelación, retrasos y/o desviación ( DepDelay, ArrDelay)"
   ]
  },
  {
   "cell_type": "code",
   "execution_count": 13,
   "id": "27981c41",
   "metadata": {
    "scrolled": true
   },
   "outputs": [
    {
     "name": "stdout",
     "output_type": "stream",
     "text": [
      "                   DepDelay  ArrDelay\n",
      "CarrierDelay       0.528038  0.501773\n",
      "WeatherDelay       0.244488  0.264624\n",
      "NASDelay           0.233976  0.387606\n",
      "SecurityDelay     -0.002343 -0.002488\n",
      "LateAircraftDelay  0.513041  0.478123\n"
     ]
    }
   ],
   "source": [
    "motivos_retrasos = ['CarrierDelay','WeatherDelay', 'NASDelay','SecurityDelay','LateAircraftDelay']\n",
    "tiempo_retraso = ['DepDelay', 'ArrDelay']\n",
    "\n",
    "motivos_retrasos_vs_tiempo_retraso = df[motivos_retrasos + tiempo_retraso].corr().loc[motivos_retrasos, tiempo_retraso]\n",
    "print(motivos_retrasos_vs_tiempo_retraso)"
   ]
  },
  {
   "cell_type": "markdown",
   "id": "d34f156a",
   "metadata": {},
   "source": [
    "**Conclusión:**  Observamos que:\n",
    "1. El tiempo de retraso debido a la aerolínea (CarrierDelay) tiene correlación con el tiempo de retraso en salida y en la llegada. \n",
    "2. El tiempo de retraso debido a problemas con el avión (LateAircraftDelay) tiene más correlación con el tiempo de retraso en la salida que con el tiempo de retraso en llegada (aunque ambos nos indica que tienen correlación).\n",
    "\n",
    "El resto factores que indican el motivo del retraso NO tienen relación con el retraso en la salida y en la llegada."
   ]
  },
  {
   "cell_type": "code",
   "execution_count": 81,
   "id": "cf4b721d",
   "metadata": {},
   "outputs": [
    {
     "name": "stdout",
     "output_type": "stream",
     "text": [
      "(200000, 27)\n"
     ]
    }
   ],
   "source": [
    "#Como el dataframe es muy grande, lo vamos a reducir su tamaño a 200.000 registros\n",
    "\n",
    "# Primero establecemos una semilla para reproducibilidad\n",
    "import numpy as np\n",
    "np.random.seed(42)\n",
    "\n",
    "# Seleccionar un subconjunto aleatorio de 200,000 registros\n",
    "n_df_muestreo = n_df.sample(n=200000)\n",
    "\n",
    "# Verificar el nuevo tamaño del DataFrame\n",
    "print(n_df_muestreo.shape)\n"
   ]
  },
  {
   "cell_type": "markdown",
   "id": "d6df6b38",
   "metadata": {},
   "source": [
    "## Exercici 2"
   ]
  },
  {
   "cell_type": "markdown",
   "id": "3e3898c4",
   "metadata": {},
   "source": [
    "Fes un informe complet del dataset:\n",
    "\n",
    "Resumeix estadísticament el dataset i les columnes d’interès. Fes una anàlisi estadístic del que consideris rellevant.\n",
    "Troba quantes dades faltants hi ha per columna.\n",
    "Crea columnes noves (velocitat mitjana del vol, si ha arribat tard o no...).\n",
    "Fes una taula de les aerolínies amb més endarreriments acumulats.\n",
    "Quins són els vols més llargs? I els més endarrerits? Busca les rutes més llargues i les que acumulen més retards.\n",
    "Aporta allò que consideris rellevant."
   ]
  },
  {
   "cell_type": "markdown",
   "id": "aae89069",
   "metadata": {},
   "source": [
    "**1. Resumeix estadísticament el dataset i les columnes d’interès.**"
   ]
  },
  {
   "cell_type": "code",
   "execution_count": 83,
   "id": "615ba10a",
   "metadata": {},
   "outputs": [
    {
     "data": {
      "text/html": [
       "<div>\n",
       "<style scoped>\n",
       "    .dataframe tbody tr th:only-of-type {\n",
       "        vertical-align: middle;\n",
       "    }\n",
       "\n",
       "    .dataframe tbody tr th {\n",
       "        vertical-align: top;\n",
       "    }\n",
       "\n",
       "    .dataframe thead th {\n",
       "        text-align: right;\n",
       "    }\n",
       "</style>\n",
       "<table border=\"1\" class=\"dataframe\">\n",
       "  <thead>\n",
       "    <tr style=\"text-align: right;\">\n",
       "      <th></th>\n",
       "      <th>count</th>\n",
       "      <th>mean</th>\n",
       "      <th>std</th>\n",
       "      <th>min</th>\n",
       "      <th>25%</th>\n",
       "      <th>50%</th>\n",
       "      <th>75%</th>\n",
       "      <th>max</th>\n",
       "    </tr>\n",
       "  </thead>\n",
       "  <tbody>\n",
       "    <tr>\n",
       "      <th>DepTime</th>\n",
       "      <td>200000.0</td>\n",
       "      <td>1520.114805</td>\n",
       "      <td>450.087506</td>\n",
       "      <td>1.000000</td>\n",
       "      <td>1205.000000</td>\n",
       "      <td>1546.000000</td>\n",
       "      <td>1901.000000</td>\n",
       "      <td>2400.0</td>\n",
       "    </tr>\n",
       "    <tr>\n",
       "      <th>CRSDepTime</th>\n",
       "      <td>200000.0</td>\n",
       "      <td>1468.567445</td>\n",
       "      <td>424.431628</td>\n",
       "      <td>0.000000</td>\n",
       "      <td>1135.000000</td>\n",
       "      <td>1510.000000</td>\n",
       "      <td>1817.000000</td>\n",
       "      <td>2359.0</td>\n",
       "    </tr>\n",
       "    <tr>\n",
       "      <th>ArrTime</th>\n",
       "      <td>199267.0</td>\n",
       "      <td>1611.293159</td>\n",
       "      <td>548.219910</td>\n",
       "      <td>1.000000</td>\n",
       "      <td>1317.000000</td>\n",
       "      <td>1716.000000</td>\n",
       "      <td>2031.000000</td>\n",
       "      <td>2400.0</td>\n",
       "    </tr>\n",
       "    <tr>\n",
       "      <th>CRSArrTime</th>\n",
       "      <td>200000.0</td>\n",
       "      <td>1635.514525</td>\n",
       "      <td>464.072463</td>\n",
       "      <td>0.000000</td>\n",
       "      <td>1325.000000</td>\n",
       "      <td>1707.000000</td>\n",
       "      <td>2015.000000</td>\n",
       "      <td>2400.0</td>\n",
       "    </tr>\n",
       "    <tr>\n",
       "      <th>FlightNum</th>\n",
       "      <td>200000.0</td>\n",
       "      <td>2188.548195</td>\n",
       "      <td>1944.372086</td>\n",
       "      <td>1.000000</td>\n",
       "      <td>615.000000</td>\n",
       "      <td>1549.000000</td>\n",
       "      <td>3423.000000</td>\n",
       "      <td>9740.0</td>\n",
       "    </tr>\n",
       "    <tr>\n",
       "      <th>ActualElapsedTime</th>\n",
       "      <td>199127.0</td>\n",
       "      <td>133.222772</td>\n",
       "      <td>72.001365</td>\n",
       "      <td>15.000000</td>\n",
       "      <td>80.000000</td>\n",
       "      <td>116.000000</td>\n",
       "      <td>165.000000</td>\n",
       "      <td>666.0</td>\n",
       "    </tr>\n",
       "    <tr>\n",
       "      <th>CRSElapsedTime</th>\n",
       "      <td>199974.0</td>\n",
       "      <td>134.184889</td>\n",
       "      <td>71.177993</td>\n",
       "      <td>1.000000</td>\n",
       "      <td>82.000000</td>\n",
       "      <td>116.000000</td>\n",
       "      <td>165.000000</td>\n",
       "      <td>660.0</td>\n",
       "    </tr>\n",
       "    <tr>\n",
       "      <th>AirTime</th>\n",
       "      <td>199127.0</td>\n",
       "      <td>108.197070</td>\n",
       "      <td>68.472446</td>\n",
       "      <td>0.000000</td>\n",
       "      <td>58.000000</td>\n",
       "      <td>90.000000</td>\n",
       "      <td>137.000000</td>\n",
       "      <td>644.0</td>\n",
       "    </tr>\n",
       "    <tr>\n",
       "      <th>ArrDelay</th>\n",
       "      <td>199127.0</td>\n",
       "      <td>42.371456</td>\n",
       "      <td>57.004644</td>\n",
       "      <td>-57.000000</td>\n",
       "      <td>9.000000</td>\n",
       "      <td>25.000000</td>\n",
       "      <td>56.000000</td>\n",
       "      <td>2453.0</td>\n",
       "    </tr>\n",
       "    <tr>\n",
       "      <th>DepDelay</th>\n",
       "      <td>200000.0</td>\n",
       "      <td>43.319360</td>\n",
       "      <td>53.581396</td>\n",
       "      <td>6.000000</td>\n",
       "      <td>12.000000</td>\n",
       "      <td>24.000000</td>\n",
       "      <td>54.000000</td>\n",
       "      <td>2467.0</td>\n",
       "    </tr>\n",
       "    <tr>\n",
       "      <th>Distance</th>\n",
       "      <td>200000.0</td>\n",
       "      <td>764.961740</td>\n",
       "      <td>572.856710</td>\n",
       "      <td>11.000000</td>\n",
       "      <td>340.000000</td>\n",
       "      <td>607.000000</td>\n",
       "      <td>998.000000</td>\n",
       "      <td>4962.0</td>\n",
       "    </tr>\n",
       "    <tr>\n",
       "      <th>TaxiIn</th>\n",
       "      <td>199267.0</td>\n",
       "      <td>6.817747</td>\n",
       "      <td>5.342789</td>\n",
       "      <td>0.000000</td>\n",
       "      <td>4.000000</td>\n",
       "      <td>6.000000</td>\n",
       "      <td>8.000000</td>\n",
       "      <td>200.0</td>\n",
       "    </tr>\n",
       "    <tr>\n",
       "      <th>TaxiOut</th>\n",
       "      <td>199956.0</td>\n",
       "      <td>18.217083</td>\n",
       "      <td>14.410192</td>\n",
       "      <td>0.000000</td>\n",
       "      <td>10.000000</td>\n",
       "      <td>14.000000</td>\n",
       "      <td>21.000000</td>\n",
       "      <td>342.0</td>\n",
       "    </tr>\n",
       "    <tr>\n",
       "      <th>CarrierDelay</th>\n",
       "      <td>128970.0</td>\n",
       "      <td>19.197666</td>\n",
       "      <td>44.126249</td>\n",
       "      <td>0.000000</td>\n",
       "      <td>0.000000</td>\n",
       "      <td>2.000000</td>\n",
       "      <td>21.000000</td>\n",
       "      <td>2436.0</td>\n",
       "    </tr>\n",
       "    <tr>\n",
       "      <th>WeatherDelay</th>\n",
       "      <td>128970.0</td>\n",
       "      <td>3.691052</td>\n",
       "      <td>20.863373</td>\n",
       "      <td>0.000000</td>\n",
       "      <td>0.000000</td>\n",
       "      <td>0.000000</td>\n",
       "      <td>0.000000</td>\n",
       "      <td>868.0</td>\n",
       "    </tr>\n",
       "    <tr>\n",
       "      <th>NASDelay</th>\n",
       "      <td>128970.0</td>\n",
       "      <td>15.002566</td>\n",
       "      <td>33.913939</td>\n",
       "      <td>0.000000</td>\n",
       "      <td>0.000000</td>\n",
       "      <td>2.000000</td>\n",
       "      <td>15.000000</td>\n",
       "      <td>1030.0</td>\n",
       "    </tr>\n",
       "    <tr>\n",
       "      <th>SecurityDelay</th>\n",
       "      <td>128970.0</td>\n",
       "      <td>0.091223</td>\n",
       "      <td>2.014928</td>\n",
       "      <td>0.000000</td>\n",
       "      <td>0.000000</td>\n",
       "      <td>0.000000</td>\n",
       "      <td>0.000000</td>\n",
       "      <td>280.0</td>\n",
       "    </tr>\n",
       "    <tr>\n",
       "      <th>LateAircraftDelay</th>\n",
       "      <td>128970.0</td>\n",
       "      <td>25.467403</td>\n",
       "      <td>42.275946</td>\n",
       "      <td>0.000000</td>\n",
       "      <td>0.000000</td>\n",
       "      <td>8.000000</td>\n",
       "      <td>34.000000</td>\n",
       "      <td>1012.0</td>\n",
       "    </tr>\n",
       "    <tr>\n",
       "      <th>AvgSpeed</th>\n",
       "      <td>199127.0</td>\n",
       "      <td>inf</td>\n",
       "      <td>NaN</td>\n",
       "      <td>0.354839</td>\n",
       "      <td>5.868852</td>\n",
       "      <td>6.729885</td>\n",
       "      <td>7.469848</td>\n",
       "      <td>inf</td>\n",
       "    </tr>\n",
       "    <tr>\n",
       "      <th>ArrivedLate</th>\n",
       "      <td>200000.0</td>\n",
       "      <td>0.890780</td>\n",
       "      <td>0.311916</td>\n",
       "      <td>0.000000</td>\n",
       "      <td>1.000000</td>\n",
       "      <td>1.000000</td>\n",
       "      <td>1.000000</td>\n",
       "      <td>1.0</td>\n",
       "    </tr>\n",
       "  </tbody>\n",
       "</table>\n",
       "</div>"
      ],
      "text/plain": [
       "                      count         mean          std        min          25%  \\\n",
       "DepTime            200000.0  1520.114805   450.087506   1.000000  1205.000000   \n",
       "CRSDepTime         200000.0  1468.567445   424.431628   0.000000  1135.000000   \n",
       "ArrTime            199267.0  1611.293159   548.219910   1.000000  1317.000000   \n",
       "CRSArrTime         200000.0  1635.514525   464.072463   0.000000  1325.000000   \n",
       "FlightNum          200000.0  2188.548195  1944.372086   1.000000   615.000000   \n",
       "ActualElapsedTime  199127.0   133.222772    72.001365  15.000000    80.000000   \n",
       "CRSElapsedTime     199974.0   134.184889    71.177993   1.000000    82.000000   \n",
       "AirTime            199127.0   108.197070    68.472446   0.000000    58.000000   \n",
       "ArrDelay           199127.0    42.371456    57.004644 -57.000000     9.000000   \n",
       "DepDelay           200000.0    43.319360    53.581396   6.000000    12.000000   \n",
       "Distance           200000.0   764.961740   572.856710  11.000000   340.000000   \n",
       "TaxiIn             199267.0     6.817747     5.342789   0.000000     4.000000   \n",
       "TaxiOut            199956.0    18.217083    14.410192   0.000000    10.000000   \n",
       "CarrierDelay       128970.0    19.197666    44.126249   0.000000     0.000000   \n",
       "WeatherDelay       128970.0     3.691052    20.863373   0.000000     0.000000   \n",
       "NASDelay           128970.0    15.002566    33.913939   0.000000     0.000000   \n",
       "SecurityDelay      128970.0     0.091223     2.014928   0.000000     0.000000   \n",
       "LateAircraftDelay  128970.0    25.467403    42.275946   0.000000     0.000000   \n",
       "AvgSpeed           199127.0          inf          NaN   0.354839     5.868852   \n",
       "ArrivedLate        200000.0     0.890780     0.311916   0.000000     1.000000   \n",
       "\n",
       "                           50%          75%     max  \n",
       "DepTime            1546.000000  1901.000000  2400.0  \n",
       "CRSDepTime         1510.000000  1817.000000  2359.0  \n",
       "ArrTime            1716.000000  2031.000000  2400.0  \n",
       "CRSArrTime         1707.000000  2015.000000  2400.0  \n",
       "FlightNum          1549.000000  3423.000000  9740.0  \n",
       "ActualElapsedTime   116.000000   165.000000   666.0  \n",
       "CRSElapsedTime      116.000000   165.000000   660.0  \n",
       "AirTime              90.000000   137.000000   644.0  \n",
       "ArrDelay             25.000000    56.000000  2453.0  \n",
       "DepDelay             24.000000    54.000000  2467.0  \n",
       "Distance            607.000000   998.000000  4962.0  \n",
       "TaxiIn                6.000000     8.000000   200.0  \n",
       "TaxiOut              14.000000    21.000000   342.0  \n",
       "CarrierDelay          2.000000    21.000000  2436.0  \n",
       "WeatherDelay          0.000000     0.000000   868.0  \n",
       "NASDelay              2.000000    15.000000  1030.0  \n",
       "SecurityDelay         0.000000     0.000000   280.0  \n",
       "LateAircraftDelay     8.000000    34.000000  1012.0  \n",
       "AvgSpeed              6.729885     7.469848     inf  \n",
       "ArrivedLate           1.000000     1.000000     1.0  "
      ]
     },
     "execution_count": 83,
     "metadata": {},
     "output_type": "execute_result"
    }
   ],
   "source": [
    "n_df_muestreo.describe().T"
   ]
  },
  {
   "cell_type": "markdown",
   "id": "cd823b09",
   "metadata": {},
   "source": [
    "**2. Fes una anàlisi estadístic del que consideris rellevant.** "
   ]
  },
  {
   "cell_type": "markdown",
   "id": "f5990fdb",
   "metadata": {},
   "source": [
    "**¿Qué vuelos fueron cancelados, desvidados y retrasados que no hayan tenido relación con los motivos de retraso?** "
   ]
  },
  {
   "cell_type": "markdown",
   "id": "2e302a43",
   "metadata": {},
   "source": [
    "*este código nos indica lo mismo si quisieramos averiguar cuantos NaN tenemos en los vuelos con motivos.*"
   ]
  },
  {
   "cell_type": "code",
   "execution_count": 84,
   "id": "157128d4",
   "metadata": {},
   "outputs": [
    {
     "name": "stdout",
     "output_type": "stream",
     "text": [
      "Número de vuelos cancelados sin motivos de retraso: 60\n",
      "Número de vuelos desviados sin motivos de retraso: 813\n",
      "Número de vuelos retrasados sin motivos de retraso: 49186\n",
      "Total 50059\n"
     ]
    }
   ],
   "source": [
    "# Filtrar vuelos sin motivos de retraso que han sido cancelados, desviados o retrasados\n",
    "vuelos_sin_motivos = n_df_muestreo[\n",
    "    (n_df_muestreo['CarrierDelay'].isnull()) &\n",
    "    (n_df_muestreo['WeatherDelay'].isnull()) &\n",
    "    (n_df_muestreo['NASDelay'].isnull()) &\n",
    "    (n_df_muestreo['SecurityDelay'].isnull()) &\n",
    "    (n_df_muestreo['LateAircraftDelay'].isnull())\n",
    "]\n",
    "\n",
    "# Contar el número de vuelos cancelados sin motivos de retraso\n",
    "num_cancelados_sin_motivos = vuelos_sin_motivos[vuelos_sin_motivos['Cancelled'] == 1].shape[0]\n",
    "\n",
    "# Contar el número de vuelos desviados sin motivos de retraso\n",
    "num_desviados_sin_motivos = vuelos_sin_motivos[vuelos_sin_motivos['Diverted'] == 1].shape[0]\n",
    "\n",
    "# Contar el número de vuelos retrasados sin motivos de retraso\n",
    "num_retrasados_sin_motivos = vuelos_sin_motivos[vuelos_sin_motivos['ArrDelay'] > 0].shape[0]\n",
    "\n",
    "# Mostrar resultado\n",
    "print(\"Número de vuelos cancelados sin motivos de retraso:\", num_cancelados_sin_motivos)\n",
    "print(\"Número de vuelos desviados sin motivos de retraso:\", num_desviados_sin_motivos)\n",
    "print(\"Número de vuelos retrasados sin motivos de retraso:\", num_retrasados_sin_motivos)\n",
    "\n",
    "print('Total', num_cancelados_sin_motivos + num_desviados_sin_motivos + num_retrasados_sin_motivos)\n"
   ]
  },
  {
   "cell_type": "markdown",
   "id": "6e157c52",
   "metadata": {},
   "source": [
    "**Nota**: Sabemos que  \n",
    "Total Vuelos cancelados:  633  \n",
    "Total Vuelos desviados:  7754  \n",
    "Total Vuelos retrasados:  1723415  \n",
    "Total 1731802\n",
    "\n",
    "y que 484.314 son los vuelos que han sido cancelados, desviados y retrasados sin motivos de retraso."
   ]
  },
  {
   "cell_type": "markdown",
   "id": "7ac61d20",
   "metadata": {},
   "source": [
    "**Conclusiones**: Observamos que los vuelos cancelados y desviados son el mismo número y no tienen realación con los motivos. En cambio, los vuelos con retraso, tenemos 1.247.488 con motivo y 475.927 sin motivo. "
   ]
  },
  {
   "cell_type": "markdown",
   "id": "2b0ac385",
   "metadata": {},
   "source": [
    "### ¿Que ha pasado con los 484314 que han sido cancelados, desviados y retrasados sin motivos?"
   ]
  },
  {
   "cell_type": "markdown",
   "id": "7503ed80",
   "metadata": {},
   "source": [
    "Info:  \n",
    "Número total de vuelos"
   ]
  },
  {
   "cell_type": "code",
   "execution_count": 88,
   "id": "723f0779",
   "metadata": {},
   "outputs": [
    {
     "name": "stdout",
     "output_type": "stream",
     "text": [
      "Número total de vuelos: 1936758\n"
     ]
    }
   ],
   "source": [
    "# Obtener el número total de vuelos, utilizamos la función len que cuenta el total de filas del df.\n",
    "#Como estamos cogiendo 200.000 registros, si ponemos el df original nos aparecen \n",
    "total_vuelos = len(df)\n",
    "\n",
    "print(\"Número total de vuelos:\", total_vuelos)\n",
    "\n"
   ]
  },
  {
   "cell_type": "code",
   "execution_count": 87,
   "id": "3982e8b9",
   "metadata": {},
   "outputs": [
    {
     "name": "stdout",
     "output_type": "stream",
     "text": [
      "Número total de vuelos: 200000\n"
     ]
    }
   ],
   "source": [
    "# Obtener el número total de vuelos, utilizamos la función len que cuenta el total de filas del df.\n",
    "#Como estamos cogiendo 200.000 registros\n",
    "total_vuelos = len(n_df_muestreo)\n",
    "\n",
    "print(\"Número total de vuelos:\", total_vuelos)\n"
   ]
  },
  {
   "cell_type": "markdown",
   "id": "7fa8ebdb",
   "metadata": {},
   "source": [
    "¿Cuantos vuelos afectados con motivos tenemos?"
   ]
  },
  {
   "cell_type": "code",
   "execution_count": 89,
   "id": "23d04299",
   "metadata": {},
   "outputs": [
    {
     "name": "stdout",
     "output_type": "stream",
     "text": [
      "Número de vuelos afectados con motivos de retraso: 128970\n"
     ]
    }
   ],
   "source": [
    "# Primero vamos a averiguar la suma de vuelos con motivos de retraso\n",
    "suma_vuelos_afectados_con_motivos = n_df_muestreo[['CarrierDelay', 'WeatherDelay', 'NASDelay', 'SecurityDelay', 'LateAircraftDelay']].gt(0).any(axis=1).sum()\n",
    "\n",
    "print(\"Número de vuelos afectados con motivos de retraso:\", suma_vuelos_afectados_con_motivos)\n"
   ]
  },
  {
   "cell_type": "markdown",
   "id": "30c49783",
   "metadata": {},
   "source": [
    "¿Cuantos vuelos afectados tenemos?"
   ]
  },
  {
   "cell_type": "code",
   "execution_count": 90,
   "id": "2162706a",
   "metadata": {},
   "outputs": [
    {
     "data": {
      "text/plain": [
       "1297547"
      ]
     },
     "execution_count": 90,
     "metadata": {},
     "output_type": "execute_result"
    }
   ],
   "source": [
    "# Segundo vamos a averiguar la suma de vuelos afectados, que incluyen los vuelos con motivos y los sin motivos.\n",
    "vuelos_afectados = suma_vuelos_con_motivos + num_cancelados_sin_motivos + num_desviados_sin_motivos + num_retrasados_sin_motivos\n",
    "vuelos_afectados"
   ]
  },
  {
   "cell_type": "markdown",
   "id": "a77f1cb5",
   "metadata": {},
   "source": [
    "¿Cuántos vuelos sin afectaciones tenemos?"
   ]
  },
  {
   "cell_type": "code",
   "execution_count": 91,
   "id": "bf1be657",
   "metadata": {},
   "outputs": [
    {
     "data": {
      "text/plain": [
       "639211"
      ]
     },
     "execution_count": 91,
     "metadata": {},
     "output_type": "execute_result"
    }
   ],
   "source": [
    "#Obtener el número de vuelos sin afectaciones\n",
    "vuelos_sin_afectacion = total_vuelos - vuelos_afectados\n",
    "vuelos_sin_afectacion"
   ]
  },
  {
   "cell_type": "markdown",
   "id": "909a5102",
   "metadata": {},
   "source": [
    "### Lo cual quiere decir que de los 1.936.758 vuelos que tenemos en nuestro dataframe, 1.731.802 han sido afectados y 204.956 no."
   ]
  },
  {
   "cell_type": "markdown",
   "id": "b08508d6",
   "metadata": {},
   "source": [
    "**Ahora, teniendo en cuenta estos datos, sería interesante averiguar los o el motivo de los 484.314 vuelos afectados.\n",
    "¿Cuales son las causas?**"
   ]
  },
  {
   "cell_type": "markdown",
   "id": "1251ef72",
   "metadata": {},
   "source": [
    "1. Hipótesis:  \n",
    "¿Es posible que tenga que ver con la distancia del vuelo (Distance)?"
   ]
  },
  {
   "cell_type": "markdown",
   "id": "54f23c08",
   "metadata": {},
   "source": [
    "2. Hipótesis:  \n",
    "¿Es posible que tenga que ver con la aerolinea?"
   ]
  },
  {
   "cell_type": "markdown",
   "id": "2169de39",
   "metadata": {},
   "source": [
    "3. Hipótesis:  \n",
    "    ¿És posible que tenga que ver con la época del año?"
   ]
  },
  {
   "cell_type": "markdown",
   "id": "35996d98",
   "metadata": {},
   "source": [
    "....."
   ]
  },
  {
   "cell_type": "markdown",
   "id": "e0990c32",
   "metadata": {},
   "source": [
    "**4. Crea columnes noves (velocitat mitjana del vol, si ha arribat tard o no...)**"
   ]
  },
  {
   "cell_type": "markdown",
   "id": "1f5531d6",
   "metadata": {},
   "source": [
    "Velocidad media del vuelo"
   ]
  },
  {
   "cell_type": "code",
   "execution_count": 92,
   "id": "5657a193",
   "metadata": {},
   "outputs": [],
   "source": [
    "# Calcular velocidad media del vuelo (en millas por minuto) 'AvgSpeed' lo que estamos haciendo en dividir la distancia en millas por la hora \n",
    "#el tiempo en el aire en minutos.\n",
    "\n",
    "n_df_muestreo['AvgSpeed'] = n_df_muestreo['Distance'] / n_df_muestreo['AirTime']"
   ]
  },
  {
   "cell_type": "markdown",
   "id": "60c75f39",
   "metadata": {},
   "source": [
    "Si ha llegado tarde o no"
   ]
  },
  {
   "cell_type": "code",
   "execution_count": 94,
   "id": "31d31344",
   "metadata": {},
   "outputs": [],
   "source": [
    "# Creamos una columna que indica si ha llegado tarde (1 si sí, 0 si no)\n",
    "n_df_muestreo['ArrivedLate'] = (n_df_muestreo['ArrDelay'] > 0).astype(int) #un vuelo llega tarde si ArrDelay es mayor que cero."
   ]
  },
  {
   "cell_type": "code",
   "execution_count": 93,
   "id": "fc1cc949",
   "metadata": {},
   "outputs": [
    {
     "name": "stdout",
     "output_type": "stream",
     "text": [
      "         AirTime  Distance  AvgSpeed  ArrDelay  ArrivedLate\n",
      "1782417    177.0      1297  7.327684      71.0            1\n",
      "512712      55.0       334  6.072727     548.0            1\n",
      "447137      44.0       150  3.409091       9.0            1\n",
      "55082       32.0       142  4.437500      52.0            1\n",
      "877634     134.0       817  6.097015      22.0            1\n"
     ]
    }
   ],
   "source": [
    "# Imprimir las primeras filas del DataFrame con las nuevas columnas seleccionadas\n",
    "print(n_df_muestreo[['AirTime', 'Distance', 'AvgSpeed', 'ArrDelay', 'ArrivedLate']].head())\n"
   ]
  },
  {
   "cell_type": "markdown",
   "id": "beca31b9",
   "metadata": {},
   "source": [
    "**3. Troba quantes dades faltants hi ha per columna.**"
   ]
  },
  {
   "cell_type": "code",
   "execution_count": 95,
   "id": "f37d3adc",
   "metadata": {},
   "outputs": [
    {
     "data": {
      "text/plain": [
       "DepTime                  0\n",
       "CRSDepTime               0\n",
       "ArrTime                733\n",
       "CRSArrTime               0\n",
       "UniqueCarrier            0\n",
       "FlightNum                0\n",
       "TailNum                  0\n",
       "ActualElapsedTime      873\n",
       "CRSElapsedTime          26\n",
       "AirTime                873\n",
       "ArrDelay               873\n",
       "DepDelay                 0\n",
       "Origin                   0\n",
       "Dest                     0\n",
       "Distance                 0\n",
       "TaxiIn                 733\n",
       "TaxiOut                 44\n",
       "Cancelled                0\n",
       "CancellationCode         0\n",
       "Diverted                 0\n",
       "CarrierDelay         71030\n",
       "WeatherDelay         71030\n",
       "NASDelay             71030\n",
       "SecurityDelay        71030\n",
       "LateAircraftDelay    71030\n",
       "AvgSpeed               873\n",
       "ArrivedLate              0\n",
       "dtype: int64"
      ]
     },
     "execution_count": 95,
     "metadata": {},
     "output_type": "execute_result"
    }
   ],
   "source": [
    "n_df_muestreo.isnull().sum()"
   ]
  },
  {
   "cell_type": "markdown",
   "id": "49f053fd",
   "metadata": {},
   "source": [
    "**5. Fes una taula de les aerolínies amb més endarreriments acumulats.**"
   ]
  },
  {
   "cell_type": "code",
   "execution_count": 96,
   "id": "5d674b33",
   "metadata": {},
   "outputs": [
    {
     "data": {
      "text/plain": [
       "UniqueCarrier\n",
       "WN    1178394.0\n",
       "AA     910681.0\n",
       "UA     696819.0\n",
       "MQ     665562.0\n",
       "OO     619404.0\n",
       "XE     543941.0\n",
       "DL     470912.0\n",
       "CO     427113.0\n",
       "EV     402521.0\n",
       "YV     380899.0\n",
       "US     379200.0\n",
       "NW     344490.0\n",
       "FL     323474.0\n",
       "B6     315833.0\n",
       "OH     272824.0\n",
       "9E     245790.0\n",
       "AS     146267.0\n",
       "F9      83705.0\n",
       "HA      27816.0\n",
       "AQ       1656.0\n",
       "Name: ArrDelay, dtype: float64"
      ]
     },
     "execution_count": 96,
     "metadata": {},
     "output_type": "execute_result"
    }
   ],
   "source": [
    "# Hacemos un grupby para agrupar por aerolinea y sumar (.sum) los retrasos acumulados\n",
    "endarreriments_per_aerolinia = n_df_muestreo.groupby('UniqueCarrier')['ArrDelay'].sum()\n",
    "\n",
    "# Ordenamos las aerolineas según los atrasos acumulados de mayor a menor \n",
    "endarreriments_per_aerolinia = endarreriments_per_aerolinia.sort_values(ascending=False)\n",
    "\n",
    "endarreriments_per_aerolinia"
   ]
  },
  {
   "cell_type": "markdown",
   "id": "21954e6a",
   "metadata": {},
   "source": [
    "**6. Quins són els vols més llargs? I els més endarrerits?**"
   ]
  },
  {
   "cell_type": "code",
   "execution_count": 98,
   "id": "f07e2dcf",
   "metadata": {},
   "outputs": [
    {
     "name": "stdout",
     "output_type": "stream",
     "text": [
      "UniqueCarrier      CO\n",
      "FlightNum          15\n",
      "Origin            EWR\n",
      "Dest              HNL\n",
      "Distance         4962\n",
      "Name: 1620205, dtype: object\n"
     ]
    }
   ],
   "source": [
    "# Troba els vols més llargs\n",
    "vols_mes_llargs = n_df_muestreo.loc[n_df_muestreo['Distance'].idxmax()]\n",
    "\n",
    "#n_df.loc (localizame o ves) a la columna 'Distance'/ .idmax devuélveme el índice del vuelo con la distancia máxima.\n",
    "\n",
    "print(vols_mes_llargs[['UniqueCarrier', 'FlightNum', 'Origin', 'Dest', 'Distance']])\n"
   ]
  },
  {
   "cell_type": "markdown",
   "id": "06b29f04",
   "metadata": {},
   "source": [
    "**7. Busca les rutes més llargues i les que acumulen més retards. Aporta allò que consideris rellevant.**"
   ]
  },
  {
   "cell_type": "code",
   "execution_count": 99,
   "id": "4172f215",
   "metadata": {},
   "outputs": [
    {
     "name": "stdout",
     "output_type": "stream",
     "text": [
      "Ruta más larga: Origin          SFO\n",
      "Dest            JFK\n",
      "Distance     659430\n",
      "ArrDelay    10966.0\n",
      "Name: 4268, dtype: object\n",
      "\n",
      "Ruta con más retrasos acumulados: Origin          ORD\n",
      "Dest            LGA\n",
      "Distance     318122\n",
      "ArrDelay    25121.0\n",
      "Name: 3479, dtype: object\n"
     ]
    }
   ],
   "source": [
    "# Agrupamos por ruta (origen y destino) y sumamos las distancias y los retrasos\n",
    "rutes_agrupades = n_df_muestreo.groupby(['Origin', 'Dest']).agg({'Distance': 'sum', 'ArrDelay': 'sum'}).reset_index()\n",
    "\n",
    "# Para encontrar la ruta más larga aplicamos el mismo código que el punto anterior (6.)\n",
    "ruta_mes_llarga = rutes_agrupades.loc[rutes_agrupades['Distance'].idxmax()]\n",
    "\n",
    "# Para encontrar la ruta con más retrasos acumulados (idem)\n",
    "ruta_amb_mes_endarreriments = rutes_agrupades.loc[rutes_agrupades['ArrDelay'].idxmax()]\n",
    "\n",
    "# Imprimir los resultados\n",
    "print(\"Ruta más larga:\",ruta_mes_llarga)\n",
    "\n",
    "print(\"\\nRuta con más retrasos acumulados:\", ruta_amb_mes_endarreriments)\n"
   ]
  },
  {
   "cell_type": "markdown",
   "id": "1cb476ac",
   "metadata": {},
   "source": [
    "# Exercici 3"
   ]
  },
  {
   "cell_type": "markdown",
   "id": "2ca9cb69",
   "metadata": {},
   "source": [
    "Exporta el dataset net i amb les noves columnes a Excel."
   ]
  },
  {
   "cell_type": "code",
   "execution_count": 100,
   "id": "b6342f79",
   "metadata": {},
   "outputs": [],
   "source": [
    "# Especifica la ruta y el nombre de archivo para guardar el DataFrame con las nuevas columnas\n",
    "ruta_archivo_excel = 'C:\\\\Users\\\\vsanc\\\\OneDrive\\\\Escritorio\\\\CIBERNARIUM\\\\DataScience\\\\Sprint3\\\\n_dataset.xlsx'\n",
    "\n",
    "# Guarda el DataFrame en un archivo Excel\n",
    "n_df_muestreo.to_excel(ruta_archivo_excel, index=False)\n"
   ]
  }
 ],
 "metadata": {
  "kernelspec": {
   "display_name": "Python 3 (ipykernel)",
   "language": "python",
   "name": "python3"
  },
  "language_info": {
   "codemirror_mode": {
    "name": "ipython",
    "version": 3
   },
   "file_extension": ".py",
   "mimetype": "text/x-python",
   "name": "python",
   "nbconvert_exporter": "python",
   "pygments_lexer": "ipython3",
   "version": "3.11.5"
  }
 },
 "nbformat": 4,
 "nbformat_minor": 5
}
